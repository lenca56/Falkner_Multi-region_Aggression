{
 "cells": [
  {
   "cell_type": "code",
   "execution_count": 1,
   "metadata": {},
   "outputs": [],
   "source": [
    "# importing modules and packages\n",
    "import numpy as np\n",
    "import matplotlib.pyplot as plt\n",
    "import pickle\n",
    "import pandas as pd\n",
    "from io_utils import *\n",
    "from plotting_utils import *\n",
    "from analysis_utils import * \n",
    "from pathlib import Path\n",
    "from sklearn.decomposition import PCA\n",
    "\n",
    "# Load data into dictionary\n",
    "with open('../data/fully_labeled_traces_smoothedLabels_071223_nonznorm.pickle', 'rb') as handle:\n",
    "    dict = pickle.load(handle)"
   ]
  },
  {
   "cell_type": "code",
   "execution_count": 2,
   "metadata": {},
   "outputs": [
    {
     "name": "stdout",
     "output_type": "stream",
     "text": [
      "dict_keys(['29L_d1_balbc_t1', '29L_d1_balbc_t2', '29L_d1_balbc_t3', '29L_d1_obs_t1', '29L_d1_obs_t2', '29L_d1_obs_t3', '29L_d2_balbc_t1', '29L_d2_balbc_t2', '29L_d2_balbc_t3', '29L_d2_obs_t1', '29L_d2_obs_t2', '29L_d2_obs_t3', '29L_d3_balbc_t1', '29L_d3_balbc_t2', '29L_d3_balbc_t3', '29L_d3_obs_t1', '29L_d3_obs_t2', '29L_d3_obs_t3', '29L_d4_balbc_t1', '29L_d4_balbc_t2', '29L_d4_balbc_t3', '29L_d4_obs_t1', '29L_d4_obs_t2', '29L_d4_obs_t3', '29L_d5_balbc_t1', '29L_d5_balbc_t2', '29L_d5_balbc_t3', '29L_d5_obs_t1', '29L_d5_obs_t2', '29L_d5_obs_t3', '29L_d6_balbc_t1', '29L_d6_balbc_t2', '29L_d6_balbc_t3', '29L_d6_obs_t1', '29L_d6_obs_t2', '29L_d6_obs_t3', '29L_d7_balbc_t1', '29L_d7_balbc_t2', '29L_d7_balbc_t3', '29L_d7_obs_t1', '29L_d7_obs_t2', '29L_d7_obs_t3', '29L_d8_balbc_t1', '29L_d8_balbc_t2', '29L_d8_balbc_t3', '29L_d8_obs_t1', '29L_d8_obs_t2', '29L_d8_obs_t3', '29L_d9_OBSmCD1_t1', '29L_d9_OBSmCD1_t2', '29L_d9_OBSmCD1_t3', '29L_d9_mCD1_t1', '29L_d9_mCD1_t2', '29L_d9_mCD1_t3', '3095_d1_balbc_t1', '3095_d1_balbc_t2', '3095_d1_balbc_t3', '3095_d2_balbc_t1', '3095_d2_balbc_t2', '3095_d2_balbc_t3', '3095_d3_balbc_t1', '3095_d3_balbc_t2', '3095_d3_balbc_t3', '3095_d4_balbc_t1', '3095_d4_balbc_t2', '3095_d4_balbc_t3', '3095_d5_balbc_t1', '3095_d5_balbc_t2', '3095_d5_balbc_t3', '3095_d6_balbc_t1', '3095_d6_balbc_t2', '3095_d6_balbc_t3', '3095_d7_balbc_t1', '3095_d7_balbc_t2', '3095_d7_balbc_t3', '3095_d8_balbc_t1', '3095_d8_balbc_t2', '3095_d8_balbc_t3', '3095_d9_mCD1_t1', '3095_d9_mCD1_t2', '3095_d9_mCD1_t3', '3096_d1_balbc_t1', '3096_d1_balbc_t2', '3096_d1_balbc_t3', '3096_d2_balbc_t1', '3096_d2_balbc_t2', '3096_d2_balbc_t3', '3096_d3_balbc_t1', '3096_d3_balbc_t2', '3096_d3_balbc_t3', '3096_d4_balbc_t1', '3096_d4_balbc_t2', '3096_d4_balbc_t3', '3096_d5_balbc_t1', '3096_d5_balbc_t2', '3096_d5_balbc_t3', '3096_d6_balbc_t1', '3096_d6_balbc_t2', '3096_d6_balbc_t3', '3096_d7_balbc_t1', '3096_d7_balbc_t2', '3096_d7_balbc_t3', '3096_d8_balbc_t1', '3096_d8_balbc_t2', '3096_d8_balbc_t3', '3096_d9_mCD1_t1', '3096_d9_mCD1_t2', '3096_d9_mCD1_t3', '3097_d1_balbc_t1', '3097_d1_balbc_t2', '3097_d1_balbc_t3', '3097_d2_balbc_t1', '3097_d2_balbc_t2', '3097_d2_balbc_t3', '3097_d3_balbc_t1', '3097_d3_balbc_t2', '3097_d3_balbc_t3', '3097_d4_balbc_t1', '3097_d4_balbc_t2', '3097_d4_balbc_t3', '3097_d5_balbc_t1', '3097_d5_balbc_t2', '3097_d5_balbc_t3', '3097_d6_balbc_t1', '3097_d6_balbc_t2', '3097_d6_balbc_t3', '3097_d7_balbc_t1', '3097_d7_balbc_t2', '3097_d7_balbc_t3', '3097_d8_balbc_t1', '3097_d8_balbc_t2', '3097_d8_balbc_t3', '3097_d9_mCD1_t1', '3097_d9_mCD1_t2', '3097_d9_mCD1_t3', '30B_d1_balbc_t1', '30B_d1_balbc_t2', '30B_d1_balbc_t3', '30B_d2_balbc_t1', '30B_d2_balbc_t2', '30B_d2_balbc_t3', '30B_d3_balbc_t1', '30B_d3_balbc_t2', '30B_d3_balbc_t3', '30B_d4_balbc_t1', '30B_d4_balbc_t2', '30B_d4_balbc_t3', '30B_d5_balbc_t1', '30B_d5_balbc_t2', '30B_d5_balbc_t3', '30B_d6_balbc_t1', '30B_d6_balbc_t2', '30B_d6_balbc_t3', '30B_d7_balbc_t1', '30B_d7_balbc_t2', '30B_d7_balbc_t3', '30B_d8_balbc_t1', '30B_d8_balbc_t2', '30B_d8_balbc_t3', '30B_d9_mCD1_t1', '30B_d9_mCD1_t2', '30B_d9_mCD1_t3', '30L_d1_balbc_t1', '30L_d1_balbc_t2', '30L_d1_balbc_t3', '30L_d2_balbc_t1', '30L_d2_balbc_t2', '30L_d2_balbc_t3', '30L_d3_balbc_t1', '30L_d3_balbc_t2', '30L_d3_balbc_t3', '30L_d4_balbc_t1', '30L_d4_balbc_t2', '30L_d4_balbc_t3', '30L_d5_balbc_t1', '30L_d5_balbc_t2', '30L_d5_balbc_t3', '30L_d6_balbc_t1', '30L_d6_balbc_t2', '30L_d6_balbc_t3', '30L_d7_balbc_t1', '30L_d7_balbc_t2', '30L_d7_balbc_t3', '30L_d8_balbc_t1', '30L_d8_balbc_t2', '30L_d8_balbc_t3', '30L_d9_mCD1_t1', '30L_d9_mCD1_t2', '30L_d9_mCD1_t3', '30R2_d1_balbc_t1', '30R2_d1_balbc_t2', '30R2_d1_balbc_t3', '30R2_d1_obs_t1', '30R2_d1_obs_t2', '30R2_d1_obs_t3', '30R2_d2_balbc_t1', '30R2_d2_balbc_t2', '30R2_d2_balbc_t3', '30R2_d2_obs_t1', '30R2_d2_obs_t2', '30R2_d2_obs_t3', '30R2_d3_balbc_t1', '30R2_d3_balbc_t2', '30R2_d3_balbc_t3', '30R2_d3_obs_t1', '30R2_d3_obs_t2', '30R2_d3_obs_t3', '30R2_d4_balbc_t1', '30R2_d4_balbc_t2', '30R2_d4_balbc_t3', '30R2_d4_obs_t1', '30R2_d4_obs_t2', '30R2_d4_obs_t3', '30R2_d5_balbc_t1', '30R2_d5_balbc_t2', '30R2_d5_balbc_t3', '30R2_d5_obs_t1', '30R2_d5_obs_t2', '30R2_d5_obs_t3', '30R2_d6_balbc_t1', '30R2_d6_balbc_t2', '30R2_d6_balbc_t3', '30R2_d6_obs_t1', '30R2_d6_obs_t2', '30R2_d6_obs_t3', '30R2_d7_balbc_t1', '30R2_d7_balbc_t2', '30R2_d7_balbc_t3', '30R2_d7_obs_t1', '30R2_d7_obs_t2', '30R2_d7_obs_t3', '30R2_d8_balbc_t1', '30R2_d8_balbc_t2', '30R2_d8_balbc_t3', '30R2_d8_obs_t1', '30R2_d8_obs_t2', '30R2_d8_obs_t3', '30R2_d9_OBSmCD1_t1', '30R2_d9_OBSmCD1_t2', '30R2_d9_OBSmCD1_t3', '30R2_d9_mCD1_t1', '30R2_d9_mCD1_t2', '30R2_d9_mCD1_t3', '4013_d1_balbc_t1', '4013_d1_balbc_t2', '4013_d1_balbc_t3', '4013_d2_balbc_t1', '4013_d2_balbc_t2', '4013_d2_balbc_t3', '4013_d3_balbc_t1', '4013_d3_balbc_t2', '4013_d3_balbc_t3', '4013_d4_balbc_t1', '4013_d4_balbc_t2', '4013_d4_balbc_t3', '4013_d5_balbc_t1', '4013_d5_balbc_t2', '4013_d5_balbc_t3', '4013_d6_balbc_t1', '4013_d6_balbc_t2', '4013_d6_balbc_t3', '4013_d7_balbc_t1', '4013_d7_balbc_t2', '4013_d7_balbc_t3', '4013_d8_balbc_t1', '4013_d8_balbc_t2', '4013_d8_balbc_t3', '4013_d9_mCD1_t1', '4013_d9_mCD1_t2', '4013_d9_mCD1_t3', '4014_d1_balbc_t1', '4014_d1_balbc_t2', '4014_d1_balbc_t3', '4014_d2_balbc_t1', '4014_d2_balbc_t2', '4014_d2_balbc_t3', '4014_d3_balbc_t1', '4014_d3_balbc_t2', '4014_d3_balbc_t3', '4014_d4_balbc_t1', '4014_d4_balbc_t2', '4014_d4_balbc_t3', '4014_d5_balbc_t1', '4014_d5_balbc_t2', '4014_d5_balbc_t3', '4014_d6_balbc_t1', '4014_d6_balbc_t2', '4014_d6_balbc_t3', '4014_d7_balbc_t1', '4014_d7_balbc_t2', '4014_d7_balbc_t3', '4014_d8_balbc_t1', '4014_d8_balbc_t2', '4014_d8_balbc_t3', '4014_d9_mCD1_t1', '4014_d9_mCD1_t2', '4014_d9_mCD1_t3', '4015_d1_balbc_t1', '4015_d1_balbc_t2', '4015_d1_balbc_t3', '4015_d2_balbc_t1', '4015_d2_balbc_t2', '4015_d2_balbc_t3', '4015_d3_balbc_t1', '4015_d3_balbc_t2', '4015_d3_balbc_t3', '4015_d4_balbc_t1', '4015_d4_balbc_t2', '4015_d4_balbc_t3', '4015_d5_balbc_t1', '4015_d5_balbc_t2', '4015_d5_balbc_t3', '4015_d6_balbc_t1', '4015_d6_balbc_t2', '4015_d6_balbc_t3', '4015_d7_balbc_t1', '4015_d7_balbc_t2', '4015_d7_balbc_t3', '4015_d8_balbc_t1', '4015_d8_balbc_t2', '4015_d8_balbc_t3', '4015_d9_mCD1_t1', '4015_d9_mCD1_t2', '4015_d9_mCD1_t3', '4016_d1_balbc_t1', '4016_d1_balbc_t2', '4016_d1_balbc_t3', '4016_d2_balbc_t1', '4016_d2_balbc_t2', '4016_d2_balbc_t3', '4016_d3_balbc_t1', '4016_d3_balbc_t2', '4016_d3_balbc_t3', '4016_d4_balbc_t1', '4016_d4_balbc_t2', '4016_d4_balbc_t3', '4016_d5_balbc_t1', '4016_d5_balbc_t2', '4016_d5_balbc_t3', '4016_d6_balbc_t1', '4016_d6_balbc_t2', '4016_d6_balbc_t3', '4016_d7_balbc_t1', '4016_d7_balbc_t2', '4016_d7_balbc_t3', '4016_d8_balbc_t1', '4016_d8_balbc_t2', '4016_d8_balbc_t3', '4016_d9_mCD1_t1', '4016_d9_mCD1_t2', '4016_d9_mCD1_t3', '91R2_d1_balbc_t1', '91R2_d1_balbc_t2', '91R2_d1_balbc_t3', '91R2_d2_balbc_t1', '91R2_d2_balbc_t2', '91R2_d2_balbc_t3', '91R2_d3_balbc_t1', '91R2_d3_balbc_t2', '91R2_d3_balbc_t3', '91R2_d4_balbc_t1', '91R2_d4_balbc_t2', '91R2_d4_balbc_t3', '91R2_d5_balbc_t1', '91R2_d5_balbc_t2', '91R2_d5_balbc_t3', '91R2_d6_balbc_t1', '91R2_d6_balbc_t2', '91R2_d6_balbc_t3', '91R2_d7_balbc_t1', '91R2_d7_balbc_t2', '91R2_d7_balbc_t3', '91R2_d8_balbc_t1', '91R2_d8_balbc_t2', '91R2_d8_balbc_t3', '91R2_d9_mCD1_t1', '91R2_d9_mCD1_t2', '91R2_d9_mCD1_t3'])\n"
     ]
    }
   ],
   "source": [
    "print(dict.keys())"
   ]
  },
  {
   "cell_type": "code",
   "execution_count": 6,
   "metadata": {},
   "outputs": [
    {
     "name": "stdout",
     "output_type": "stream",
     "text": [
      "['PrL (E)', 'PrL (I)', 'vLS (E)', 'vLS (I)', 'POA (E)', 'POA (I)', 'BNST (E)', 'BNST (I)', 'AH (E)', 'AH (I)', 'MeA (E)', 'MeA (I)', 'VMH (E)', 'VMH (I)', 'PAG (E)', 'PMv (E)', 'PMv (I)', 'LHb (E)', 'LHb (I)', 'PA (E)', 'PA (I)', 'NAc (DA)', 'unsupervised labels', 'supervised labels']\n"
     ]
    }
   ],
   "source": [
    "print(dict[f'3095_d1_balbc_t1'].columns.tolist())"
   ]
  },
  {
   "cell_type": "code",
   "execution_count": 4,
   "metadata": {},
   "outputs": [],
   "source": [
    "animalIDs = ['29L','3095','3096','3097','30B','30L','30R2','4013','4014','4015','4016','91R2']\n",
    "dayIDs = ['_d1_balbc','_d2_balbc','_d3_balbc','_d4_balbc','_d5_balbc','_d6_balbc','_d7_balbc','_d8_balbc','_d9_mCD1']\n",
    "obsDayIDs = []\n",
    "sessionIDs = ['_t1','_t2','_t3']"
   ]
  },
  {
   "cell_type": "code",
   "execution_count": 6,
   "metadata": {},
   "outputs": [],
   "source": [
    "# for animal in animals:\n",
    "#     for day in days:\n",
    "#         for sess in sessions:\n",
    "#             a = np.array(dict[animal+day+sess]['supervised labels'])\n",
    "#             print(a.shape)\n",
    "#             np.save(f'../data/{animal+day+sess}_aggr_labels', a)\n"
   ]
  },
  {
   "cell_type": "code",
   "execution_count": 8,
   "metadata": {},
   "outputs": [
    {
     "name": "stdout",
     "output_type": "stream",
     "text": [
      "(False, PosixPath('/Users/lencacuturela/Desktop/Research/github/Falkner_Multi-region_Aggression/data/30L_neural_data.csv'))\n"
     ]
    }
   ],
   "source": [
    "print(check_exist(mouseId='30L',path=None))"
   ]
  },
  {
   "cell_type": "code",
   "execution_count": 5,
   "metadata": {},
   "outputs": [
    {
     "name": "stdout",
     "output_type": "stream",
     "text": [
      "['PrL (E)', 'PrL (I)', 'vLS (E)', 'vLS (I)', 'POA (E)', 'POA (I)', 'BNST (E)', 'BNST (I)', 'AH (E)', 'AH (I)', 'MeA (E)', 'MeA (I)', 'VMH (E)', 'VMH (I)', 'PAG (E)', 'PMv (E)', 'PMv (I)', 'LHb (E)', 'LHb (I)', 'PA (E)', 'PA (I)', 'NAc (DA)', 'unsupervised labels', 'supervised labels']\n"
     ]
    },
    {
     "data": {
      "text/html": [
       "<div>\n",
       "<style scoped>\n",
       "    .dataframe tbody tr th:only-of-type {\n",
       "        vertical-align: middle;\n",
       "    }\n",
       "\n",
       "    .dataframe tbody tr th {\n",
       "        vertical-align: top;\n",
       "    }\n",
       "\n",
       "    .dataframe thead th {\n",
       "        text-align: right;\n",
       "    }\n",
       "</style>\n",
       "<table border=\"1\" class=\"dataframe\">\n",
       "  <thead>\n",
       "    <tr style=\"text-align: right;\">\n",
       "      <th></th>\n",
       "      <th>index</th>\n",
       "      <th>subject</th>\n",
       "      <th>other</th>\n",
       "      <th>day</th>\n",
       "      <th>trial</th>\n",
       "      <th>PrL (E)</th>\n",
       "      <th>PrL (I)</th>\n",
       "      <th>vLS (E)</th>\n",
       "      <th>vLS (I)</th>\n",
       "      <th>POA (E)</th>\n",
       "      <th>...</th>\n",
       "      <th>PAG (E)</th>\n",
       "      <th>PMv (E)</th>\n",
       "      <th>PMv (I)</th>\n",
       "      <th>LHb (E)</th>\n",
       "      <th>LHb (I)</th>\n",
       "      <th>PA (E)</th>\n",
       "      <th>PA (I)</th>\n",
       "      <th>NAc (DA)</th>\n",
       "      <th>unsupervised labels</th>\n",
       "      <th>supervised labels</th>\n",
       "    </tr>\n",
       "  </thead>\n",
       "  <tbody>\n",
       "    <tr>\n",
       "      <th>0</th>\n",
       "      <td>0</td>\n",
       "      <td>3095</td>\n",
       "      <td>balbc</td>\n",
       "      <td>d1</td>\n",
       "      <td>t1</td>\n",
       "      <td>0.178005</td>\n",
       "      <td>0.028618</td>\n",
       "      <td>0.174659</td>\n",
       "      <td>0.097138</td>\n",
       "      <td>0.361680</td>\n",
       "      <td>...</td>\n",
       "      <td>NaN</td>\n",
       "      <td>NaN</td>\n",
       "      <td>NaN</td>\n",
       "      <td>NaN</td>\n",
       "      <td>NaN</td>\n",
       "      <td>NaN</td>\n",
       "      <td>NaN</td>\n",
       "      <td>-0.034038</td>\n",
       "      <td>16.0</td>\n",
       "      <td>0</td>\n",
       "    </tr>\n",
       "    <tr>\n",
       "      <th>1</th>\n",
       "      <td>1</td>\n",
       "      <td>3095</td>\n",
       "      <td>balbc</td>\n",
       "      <td>d1</td>\n",
       "      <td>t1</td>\n",
       "      <td>0.151732</td>\n",
       "      <td>0.023553</td>\n",
       "      <td>0.178768</td>\n",
       "      <td>0.112455</td>\n",
       "      <td>0.379397</td>\n",
       "      <td>...</td>\n",
       "      <td>NaN</td>\n",
       "      <td>NaN</td>\n",
       "      <td>NaN</td>\n",
       "      <td>NaN</td>\n",
       "      <td>NaN</td>\n",
       "      <td>NaN</td>\n",
       "      <td>NaN</td>\n",
       "      <td>-0.044577</td>\n",
       "      <td>16.0</td>\n",
       "      <td>0</td>\n",
       "    </tr>\n",
       "    <tr>\n",
       "      <th>2</th>\n",
       "      <td>2</td>\n",
       "      <td>3095</td>\n",
       "      <td>balbc</td>\n",
       "      <td>d1</td>\n",
       "      <td>t1</td>\n",
       "      <td>0.126230</td>\n",
       "      <td>0.008297</td>\n",
       "      <td>0.181392</td>\n",
       "      <td>0.129578</td>\n",
       "      <td>0.389964</td>\n",
       "      <td>...</td>\n",
       "      <td>NaN</td>\n",
       "      <td>NaN</td>\n",
       "      <td>NaN</td>\n",
       "      <td>NaN</td>\n",
       "      <td>NaN</td>\n",
       "      <td>NaN</td>\n",
       "      <td>NaN</td>\n",
       "      <td>-0.052239</td>\n",
       "      <td>16.0</td>\n",
       "      <td>0</td>\n",
       "    </tr>\n",
       "    <tr>\n",
       "      <th>3</th>\n",
       "      <td>3</td>\n",
       "      <td>3095</td>\n",
       "      <td>balbc</td>\n",
       "      <td>d1</td>\n",
       "      <td>t1</td>\n",
       "      <td>0.099486</td>\n",
       "      <td>-0.016024</td>\n",
       "      <td>0.181167</td>\n",
       "      <td>0.143536</td>\n",
       "      <td>0.386248</td>\n",
       "      <td>...</td>\n",
       "      <td>NaN</td>\n",
       "      <td>NaN</td>\n",
       "      <td>NaN</td>\n",
       "      <td>NaN</td>\n",
       "      <td>NaN</td>\n",
       "      <td>NaN</td>\n",
       "      <td>NaN</td>\n",
       "      <td>-0.057076</td>\n",
       "      <td>16.0</td>\n",
       "      <td>0</td>\n",
       "    </tr>\n",
       "    <tr>\n",
       "      <th>4</th>\n",
       "      <td>4</td>\n",
       "      <td>3095</td>\n",
       "      <td>balbc</td>\n",
       "      <td>d1</td>\n",
       "      <td>t1</td>\n",
       "      <td>0.070409</td>\n",
       "      <td>-0.044600</td>\n",
       "      <td>0.177449</td>\n",
       "      <td>0.149262</td>\n",
       "      <td>0.363240</td>\n",
       "      <td>...</td>\n",
       "      <td>NaN</td>\n",
       "      <td>NaN</td>\n",
       "      <td>NaN</td>\n",
       "      <td>NaN</td>\n",
       "      <td>NaN</td>\n",
       "      <td>NaN</td>\n",
       "      <td>NaN</td>\n",
       "      <td>-0.059164</td>\n",
       "      <td>12.0</td>\n",
       "      <td>0</td>\n",
       "    </tr>\n",
       "    <tr>\n",
       "      <th>...</th>\n",
       "      <td>...</td>\n",
       "      <td>...</td>\n",
       "      <td>...</td>\n",
       "      <td>...</td>\n",
       "      <td>...</td>\n",
       "      <td>...</td>\n",
       "      <td>...</td>\n",
       "      <td>...</td>\n",
       "      <td>...</td>\n",
       "      <td>...</td>\n",
       "      <td>...</td>\n",
       "      <td>...</td>\n",
       "      <td>...</td>\n",
       "      <td>...</td>\n",
       "      <td>...</td>\n",
       "      <td>...</td>\n",
       "      <td>...</td>\n",
       "      <td>...</td>\n",
       "      <td>...</td>\n",
       "      <td>...</td>\n",
       "      <td>...</td>\n",
       "    </tr>\n",
       "    <tr>\n",
       "      <th>550494</th>\n",
       "      <td>9582</td>\n",
       "      <td>3095</td>\n",
       "      <td>mCD1</td>\n",
       "      <td>d9</td>\n",
       "      <td>t3</td>\n",
       "      <td>0.155548</td>\n",
       "      <td>1.125363</td>\n",
       "      <td>0.194586</td>\n",
       "      <td>1.536900</td>\n",
       "      <td>0.915171</td>\n",
       "      <td>...</td>\n",
       "      <td>NaN</td>\n",
       "      <td>NaN</td>\n",
       "      <td>NaN</td>\n",
       "      <td>NaN</td>\n",
       "      <td>NaN</td>\n",
       "      <td>NaN</td>\n",
       "      <td>NaN</td>\n",
       "      <td>0.431608</td>\n",
       "      <td>5.0</td>\n",
       "      <td>0</td>\n",
       "    </tr>\n",
       "    <tr>\n",
       "      <th>550495</th>\n",
       "      <td>9583</td>\n",
       "      <td>3095</td>\n",
       "      <td>mCD1</td>\n",
       "      <td>d9</td>\n",
       "      <td>t3</td>\n",
       "      <td>0.107324</td>\n",
       "      <td>1.046464</td>\n",
       "      <td>0.166127</td>\n",
       "      <td>1.435767</td>\n",
       "      <td>0.894902</td>\n",
       "      <td>...</td>\n",
       "      <td>NaN</td>\n",
       "      <td>NaN</td>\n",
       "      <td>NaN</td>\n",
       "      <td>NaN</td>\n",
       "      <td>NaN</td>\n",
       "      <td>NaN</td>\n",
       "      <td>NaN</td>\n",
       "      <td>0.399813</td>\n",
       "      <td>5.0</td>\n",
       "      <td>0</td>\n",
       "    </tr>\n",
       "    <tr>\n",
       "      <th>550496</th>\n",
       "      <td>9584</td>\n",
       "      <td>3095</td>\n",
       "      <td>mCD1</td>\n",
       "      <td>d9</td>\n",
       "      <td>t3</td>\n",
       "      <td>0.047590</td>\n",
       "      <td>0.955136</td>\n",
       "      <td>0.137536</td>\n",
       "      <td>1.314659</td>\n",
       "      <td>0.871601</td>\n",
       "      <td>...</td>\n",
       "      <td>NaN</td>\n",
       "      <td>NaN</td>\n",
       "      <td>NaN</td>\n",
       "      <td>NaN</td>\n",
       "      <td>NaN</td>\n",
       "      <td>NaN</td>\n",
       "      <td>NaN</td>\n",
       "      <td>0.362025</td>\n",
       "      <td>5.0</td>\n",
       "      <td>0</td>\n",
       "    </tr>\n",
       "    <tr>\n",
       "      <th>550497</th>\n",
       "      <td>9585</td>\n",
       "      <td>3095</td>\n",
       "      <td>mCD1</td>\n",
       "      <td>d9</td>\n",
       "      <td>t3</td>\n",
       "      <td>-0.021030</td>\n",
       "      <td>0.855087</td>\n",
       "      <td>0.109040</td>\n",
       "      <td>1.178629</td>\n",
       "      <td>0.846323</td>\n",
       "      <td>...</td>\n",
       "      <td>NaN</td>\n",
       "      <td>NaN</td>\n",
       "      <td>NaN</td>\n",
       "      <td>NaN</td>\n",
       "      <td>NaN</td>\n",
       "      <td>NaN</td>\n",
       "      <td>NaN</td>\n",
       "      <td>0.319916</td>\n",
       "      <td>5.0</td>\n",
       "      <td>0</td>\n",
       "    </tr>\n",
       "    <tr>\n",
       "      <th>550498</th>\n",
       "      <td>9586</td>\n",
       "      <td>3095</td>\n",
       "      <td>mCD1</td>\n",
       "      <td>d9</td>\n",
       "      <td>t3</td>\n",
       "      <td>-0.094590</td>\n",
       "      <td>0.750833</td>\n",
       "      <td>0.080629</td>\n",
       "      <td>1.034703</td>\n",
       "      <td>0.820232</td>\n",
       "      <td>...</td>\n",
       "      <td>NaN</td>\n",
       "      <td>NaN</td>\n",
       "      <td>NaN</td>\n",
       "      <td>NaN</td>\n",
       "      <td>NaN</td>\n",
       "      <td>NaN</td>\n",
       "      <td>NaN</td>\n",
       "      <td>0.275649</td>\n",
       "      <td>5.0</td>\n",
       "      <td>0</td>\n",
       "    </tr>\n",
       "  </tbody>\n",
       "</table>\n",
       "<p>550499 rows × 29 columns</p>\n",
       "</div>"
      ],
      "text/plain": [
       "        index subject  other day trial   PrL (E)   PrL (I)   vLS (E)  \\\n",
       "0           0    3095  balbc  d1    t1  0.178005  0.028618  0.174659   \n",
       "1           1    3095  balbc  d1    t1  0.151732  0.023553  0.178768   \n",
       "2           2    3095  balbc  d1    t1  0.126230  0.008297  0.181392   \n",
       "3           3    3095  balbc  d1    t1  0.099486 -0.016024  0.181167   \n",
       "4           4    3095  balbc  d1    t1  0.070409 -0.044600  0.177449   \n",
       "...       ...     ...    ...  ..   ...       ...       ...       ...   \n",
       "550494   9582    3095   mCD1  d9    t3  0.155548  1.125363  0.194586   \n",
       "550495   9583    3095   mCD1  d9    t3  0.107324  1.046464  0.166127   \n",
       "550496   9584    3095   mCD1  d9    t3  0.047590  0.955136  0.137536   \n",
       "550497   9585    3095   mCD1  d9    t3 -0.021030  0.855087  0.109040   \n",
       "550498   9586    3095   mCD1  d9    t3 -0.094590  0.750833  0.080629   \n",
       "\n",
       "         vLS (I)   POA (E)  ...  PAG (E)  PMv (E)  PMv (I)  LHb (E)  LHb (I)  \\\n",
       "0       0.097138  0.361680  ...      NaN      NaN      NaN      NaN      NaN   \n",
       "1       0.112455  0.379397  ...      NaN      NaN      NaN      NaN      NaN   \n",
       "2       0.129578  0.389964  ...      NaN      NaN      NaN      NaN      NaN   \n",
       "3       0.143536  0.386248  ...      NaN      NaN      NaN      NaN      NaN   \n",
       "4       0.149262  0.363240  ...      NaN      NaN      NaN      NaN      NaN   \n",
       "...          ...       ...  ...      ...      ...      ...      ...      ...   \n",
       "550494  1.536900  0.915171  ...      NaN      NaN      NaN      NaN      NaN   \n",
       "550495  1.435767  0.894902  ...      NaN      NaN      NaN      NaN      NaN   \n",
       "550496  1.314659  0.871601  ...      NaN      NaN      NaN      NaN      NaN   \n",
       "550497  1.178629  0.846323  ...      NaN      NaN      NaN      NaN      NaN   \n",
       "550498  1.034703  0.820232  ...      NaN      NaN      NaN      NaN      NaN   \n",
       "\n",
       "        PA (E)  PA (I)  NAc (DA)  unsupervised labels  supervised labels  \n",
       "0          NaN     NaN -0.034038                 16.0                  0  \n",
       "1          NaN     NaN -0.044577                 16.0                  0  \n",
       "2          NaN     NaN -0.052239                 16.0                  0  \n",
       "3          NaN     NaN -0.057076                 16.0                  0  \n",
       "4          NaN     NaN -0.059164                 12.0                  0  \n",
       "...        ...     ...       ...                  ...                ...  \n",
       "550494     NaN     NaN  0.431608                  5.0                  0  \n",
       "550495     NaN     NaN  0.399813                  5.0                  0  \n",
       "550496     NaN     NaN  0.362025                  5.0                  0  \n",
       "550497     NaN     NaN  0.319916                  5.0                  0  \n",
       "550498     NaN     NaN  0.275649                  5.0                  0  \n",
       "\n",
       "[550499 rows x 29 columns]"
      ]
     },
     "execution_count": 5,
     "metadata": {},
     "output_type": "execute_result"
    }
   ],
   "source": [
    "load_and_wrangle(mouseId='3095', path=None, overwrite=True)"
   ]
  },
  {
   "cell_type": "code",
   "execution_count": 7,
   "metadata": {},
   "outputs": [
    {
     "name": "stdout",
     "output_type": "stream",
     "text": [
      "['PrL (E)', 'PrL (I)', 'vLS (E)', 'vLS (I)', 'POA (E)', 'POA (I)', 'BNST (E)', 'BNST (I)', 'AH (E)', 'AH (I)', 'MeA (E)', 'MeA (I)', 'VMH (E)', 'VMH (I)', 'PAG (E)', 'PMv (E)', 'PMv (I)', 'LHb (E)', 'LHb (I)', 'PA (E)', 'PA (I)', 'NAc (DA)', 'unsupervised labels', 'supervised labels']\n"
     ]
    }
   ],
   "source": [
    "# creating dataframes for each animal\n",
    "for animal in animalIDs:\n",
    "    load_and_wrangle(mouseId=animal, path=None, overwrite=True)"
   ]
  },
  {
   "cell_type": "code",
   "execution_count": 11,
   "metadata": {},
   "outputs": [],
   "source": [
    "# for mouseId in subject_ids:\n",
    "#     singleFrameBehavioralDistribution(mouseId=mouseId, path=None, daysType='per day',labeltype='unsupervised')"
   ]
  },
  {
   "cell_type": "code",
   "execution_count": 12,
   "metadata": {},
   "outputs": [],
   "source": [
    "# for mouseId in subject_ids:\n",
    "#     singleFrameBehavioralDistribution(mouseId=mouseId, path=None, daysType='per day',labeltype='supervised')"
   ]
  },
  {
   "cell_type": "code",
   "execution_count": 9,
   "metadata": {},
   "outputs": [],
   "source": [
    "# PCA for each animal\n",
    "\n",
    "# for mouseId in subject_ids:\n",
    "#     PCAfunction(mouseId=mouseId, path=None, type=None)"
   ]
  },
  {
   "cell_type": "code",
   "execution_count": null,
   "metadata": {},
   "outputs": [],
   "source": []
  },
  {
   "cell_type": "markdown",
   "metadata": {},
   "source": [
    "# Linear Regression of one region against all others"
   ]
  },
  {
   "cell_type": "markdown",
   "metadata": {},
   "source": [
    "# Ridge Regression of one region against all others"
   ]
  },
  {
   "cell_type": "markdown",
   "metadata": {},
   "source": [
    "# Lasso Regression of one region against all others"
   ]
  },
  {
   "cell_type": "markdown",
   "metadata": {},
   "source": [
    "# Partial Least Squares Regressions"
   ]
  },
  {
   "cell_type": "markdown",
   "metadata": {},
   "source": [
    "# Elastic Net Regression"
   ]
  }
 ],
 "metadata": {
  "kernelspec": {
   "display_name": "base",
   "language": "python",
   "name": "python3"
  },
  "language_info": {
   "codemirror_mode": {
    "name": "ipython",
    "version": 3
   },
   "file_extension": ".py",
   "mimetype": "text/x-python",
   "name": "python",
   "nbconvert_exporter": "python",
   "pygments_lexer": "ipython3",
   "version": "3.9.12"
  },
  "orig_nbformat": 4,
  "vscode": {
   "interpreter": {
    "hash": "7a3987f5cb919ddfd75dce0c8403cdd5da59aa02831bb2049274dd8bcad98774"
   }
  }
 },
 "nbformat": 4,
 "nbformat_minor": 2
}
