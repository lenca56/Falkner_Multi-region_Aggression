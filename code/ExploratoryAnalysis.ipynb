{
 "cells": [
  {
   "cell_type": "code",
   "execution_count": 1,
   "metadata": {},
   "outputs": [],
   "source": [
    "### Initial look at data from Jorge"
   ]
  },
  {
   "cell_type": "code",
   "execution_count": 3,
   "metadata": {},
   "outputs": [],
   "source": [
    "# importing modules and packages\n",
    "import numpy as np\n",
    "import matplotlib.pyplot as plt\n",
    "import pickle\n",
    "import pandas as pd\n",
    "\n",
    "# Load data into dictionary\n",
    "with open('data/full_traces.pickle', 'rb') as handle:\n",
    "    dict = pickle.load(handle)"
   ]
  },
  {
   "cell_type": "code",
   "execution_count": 10,
   "metadata": {},
   "outputs": [
    {
     "name": "stdout",
     "output_type": "stream",
     "text": [
      "dict_keys(['3095_d1_balbc_t1', '3095_d1_balbc_t2', '3095_d1_balbc_t3', '3095_d2_balbc_t1', '3095_d2_balbc_t2', '3095_d2_balbc_t3', '3095_d3_balbc_t1', '3095_d3_balbc_t2', '3095_d3_balbc_t3', '3095_d4_balbc_t1', '3095_d4_balbc_t2', '3095_d4_balbc_t3', '3095_d5_balbc_t1', '3095_d5_balbc_t2', '3095_d5_balbc_t3', '3095_d6_balbc_t1', '3095_d6_balbc_t2', '3095_d6_balbc_t3', '3095_d7_balbc_t1', '3095_d7_balbc_t2', '3095_d7_balbc_t3', '3095_d8_balbc_t1', '3095_d8_balbc_t2', '3095_d8_balbc_t3', '3095_d9_mCD1_t1', '3095_d9_mCD1_t2', '3095_d9_mCD1_t3', '3096_d1_balbc_t1', '3096_d1_balbc_t2', '3096_d1_balbc_t3', '3096_d2_balbc_t1', '3096_d2_balbc_t2', '3096_d2_balbc_t3', '3096_d3_balbc_t1', '3096_d3_balbc_t2', '3096_d3_balbc_t3', '3096_d4_balbc_t1', '3096_d4_balbc_t2', '3096_d4_balbc_t3', '3096_d5_balbc_t1', '3096_d5_balbc_t2', '3096_d5_balbc_t3', '3096_d6_balbc_t1', '3096_d6_balbc_t2', '3096_d6_balbc_t3', '3096_d7_balbc_t1', '3096_d7_balbc_t2', '3096_d7_balbc_t3', '3096_d8_balbc_t1', '3096_d8_balbc_t2', '3096_d8_balbc_t3', '3096_d9_mCD1_t1', '3096_d9_mCD1_t2', '3096_d9_mCD1_t3', '3097_d1_balbc_t1', '3097_d1_balbc_t2', '3097_d1_balbc_t3', '3097_d2_balbc_t1', '3097_d2_balbc_t2', '3097_d2_balbc_t3', '3097_d3_balbc_t1', '3097_d3_balbc_t2', '3097_d3_balbc_t3', '3097_d4_balbc_t1', '3097_d4_balbc_t2', '3097_d4_balbc_t3', '3097_d5_balbc_t1', '3097_d5_balbc_t2', '3097_d5_balbc_t3', '3097_d6_balbc_t1', '3097_d6_balbc_t2', '3097_d6_balbc_t3', '3097_d7_balbc_t1', '3097_d7_balbc_t2', '3097_d7_balbc_t3', '3097_d8_balbc_t1', '3097_d8_balbc_t2', '3097_d8_balbc_t3', '3097_d9_mCD1_t1', '3097_d9_mCD1_t2', '3097_d9_mCD1_t3', '4013_d1_balbc_t1', '4013_d1_balbc_t2', '4013_d1_balbc_t3', '4013_d2_balbc_t1', '4013_d2_balbc_t2', '4013_d2_balbc_t3', '4013_d3_balbc_t1', '4013_d3_balbc_t2', '4013_d3_balbc_t3', '4013_d4_balbc_t1', '4013_d4_balbc_t2', '4013_d4_balbc_t3', '4013_d5_balbc_t1', '4013_d5_balbc_t2', '4013_d5_balbc_t3', '4013_d6_balbc_t1', '4013_d6_balbc_t2', '4013_d6_balbc_t3', '4013_d7_balbc_t1', '4013_d7_balbc_t2', '4013_d7_balbc_t3', '4013_d8_balbc_t1', '4013_d8_balbc_t2', '4013_d8_balbc_t3', '4013_d9_mCD1_t1', '4013_d9_mCD1_t2', '4013_d9_mCD1_t3', '4014_d1_balbc_t1', '4014_d1_balbc_t2', '4014_d1_balbc_t3', '4014_d2_balbc_t1', '4014_d2_balbc_t2', '4014_d2_balbc_t3', '4014_d3_balbc_t1', '4014_d3_balbc_t2', '4014_d3_balbc_t3', '4014_d4_balbc_t1', '4014_d4_balbc_t2', '4014_d4_balbc_t3', '4014_d5_balbc_t1', '4014_d5_balbc_t2', '4014_d5_balbc_t3', '4014_d6_balbc_t1', '4014_d6_balbc_t2', '4014_d6_balbc_t3', '4014_d7_balbc_t1', '4014_d7_balbc_t2', '4014_d7_balbc_t3', '4014_d8_balbc_t1', '4014_d8_balbc_t2', '4014_d8_balbc_t3', '4014_d9_mCD1_t1', '4014_d9_mCD1_t2', '4014_d9_mCD1_t3', '4015_d1_balbc_t1', '4015_d1_balbc_t2', '4015_d1_balbc_t3', '4015_d2_balbc_t1', '4015_d2_balbc_t2', '4015_d2_balbc_t3', '4015_d3_balbc_t1', '4015_d3_balbc_t2', '4015_d3_balbc_t3', '4015_d4_balbc_t1', '4015_d4_balbc_t2', '4015_d4_balbc_t3', '4015_d5_balbc_t1', '4015_d5_balbc_t2', '4015_d5_balbc_t3', '4015_d6_balbc_t1', '4015_d6_balbc_t2', '4015_d6_balbc_t3', '4015_d7_balbc_t1', '4015_d7_balbc_t2', '4015_d7_balbc_t3', '4015_d8_balbc_t1', '4015_d8_balbc_t2', '4015_d8_balbc_t3', '4015_d9_mCD1_t1', '4015_d9_mCD1_t2', '4015_d9_mCD1_t3', '4016_d1_balbc_t1', '4016_d1_balbc_t2', '4016_d1_balbc_t3', '4016_d2_balbc_t1', '4016_d2_balbc_t2', '4016_d2_balbc_t3', '4016_d3_balbc_t1', '4016_d3_balbc_t2', '4016_d3_balbc_t3', '4016_d4_balbc_t1', '4016_d4_balbc_t2', '4016_d4_balbc_t3', '4016_d5_balbc_t1', '4016_d5_balbc_t2', '4016_d5_balbc_t3', '4016_d6_balbc_t1', '4016_d6_balbc_t2', '4016_d6_balbc_t3', '4016_d7_balbc_t1', '4016_d7_balbc_t2', '4016_d7_balbc_t3', '4016_d8_balbc_t1', '4016_d8_balbc_t2', '4016_d8_balbc_t3', '4016_d9_mCD1_t1', '4016_d9_mCD1_t2', '4016_d9_mCD1_t3'])\n"
     ]
    }
   ],
   "source": [
    "print(dict.keys())"
   ]
  }
 ],
 "metadata": {
  "kernelspec": {
   "display_name": "base",
   "language": "python",
   "name": "python3"
  },
  "language_info": {
   "codemirror_mode": {
    "name": "ipython",
    "version": 3
   },
   "file_extension": ".py",
   "mimetype": "text/x-python",
   "name": "python",
   "nbconvert_exporter": "python",
   "pygments_lexer": "ipython3",
   "version": "3.9.12"
  },
  "orig_nbformat": 4,
  "vscode": {
   "interpreter": {
    "hash": "7a3987f5cb919ddfd75dce0c8403cdd5da59aa02831bb2049274dd8bcad98774"
   }
  }
 },
 "nbformat": 4,
 "nbformat_minor": 2
}
