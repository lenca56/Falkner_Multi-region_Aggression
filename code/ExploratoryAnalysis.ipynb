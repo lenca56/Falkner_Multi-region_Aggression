{
 "cells": [
  {
   "cell_type": "code",
   "execution_count": 7,
   "metadata": {},
   "outputs": [],
   "source": [
    "# importing modules and packages\n",
    "import numpy as np\n",
    "import matplotlib.pyplot as plt\n",
    "import pickle\n",
    "import pandas as pd\n",
    "from io_utils import *\n",
    "from plotting_utils import *\n",
    "from analysis_utils import * \n",
    "from pathlib import Path\n",
    "from sklearn.decomposition import PCA\n",
    "\n",
    "# Load data into dictionary\n",
    "with open('../data/full_traces.pickle', 'rb') as handle:\n",
    "    dict = pickle.load(handle)\n",
    "\n",
    "# possible ids for mice\n",
    "subject_ids = [3095,3096,3097,4013,4014,4015,4016]"
   ]
  },
  {
   "cell_type": "code",
   "execution_count": 2,
   "metadata": {},
   "outputs": [
    {
     "name": "stdout",
     "output_type": "stream",
     "text": [
      "dict_keys(['3095_d1_balbc_t1', '3095_d1_balbc_t2', '3095_d1_balbc_t3', '3095_d2_balbc_t1', '3095_d2_balbc_t2', '3095_d2_balbc_t3', '3095_d3_balbc_t1', '3095_d3_balbc_t2', '3095_d3_balbc_t3', '3095_d4_balbc_t1', '3095_d4_balbc_t2', '3095_d4_balbc_t3', '3095_d5_balbc_t1', '3095_d5_balbc_t2', '3095_d5_balbc_t3', '3095_d6_balbc_t1', '3095_d6_balbc_t2', '3095_d6_balbc_t3', '3095_d7_balbc_t1', '3095_d7_balbc_t2', '3095_d7_balbc_t3', '3095_d8_balbc_t1', '3095_d8_balbc_t2', '3095_d8_balbc_t3', '3095_d9_mCD1_t1', '3095_d9_mCD1_t2', '3095_d9_mCD1_t3', '3096_d1_balbc_t1', '3096_d1_balbc_t2', '3096_d1_balbc_t3', '3096_d2_balbc_t1', '3096_d2_balbc_t2', '3096_d2_balbc_t3', '3096_d3_balbc_t1', '3096_d3_balbc_t2', '3096_d3_balbc_t3', '3096_d4_balbc_t1', '3096_d4_balbc_t2', '3096_d4_balbc_t3', '3096_d5_balbc_t1', '3096_d5_balbc_t2', '3096_d5_balbc_t3', '3096_d6_balbc_t1', '3096_d6_balbc_t2', '3096_d6_balbc_t3', '3096_d7_balbc_t1', '3096_d7_balbc_t2', '3096_d7_balbc_t3', '3096_d8_balbc_t1', '3096_d8_balbc_t2', '3096_d8_balbc_t3', '3096_d9_mCD1_t1', '3096_d9_mCD1_t2', '3096_d9_mCD1_t3', '3097_d1_balbc_t1', '3097_d1_balbc_t2', '3097_d1_balbc_t3', '3097_d2_balbc_t1', '3097_d2_balbc_t2', '3097_d2_balbc_t3', '3097_d3_balbc_t1', '3097_d3_balbc_t2', '3097_d3_balbc_t3', '3097_d4_balbc_t1', '3097_d4_balbc_t2', '3097_d4_balbc_t3', '3097_d5_balbc_t1', '3097_d5_balbc_t2', '3097_d5_balbc_t3', '3097_d6_balbc_t1', '3097_d6_balbc_t2', '3097_d6_balbc_t3', '3097_d7_balbc_t1', '3097_d7_balbc_t2', '3097_d7_balbc_t3', '3097_d8_balbc_t1', '3097_d8_balbc_t2', '3097_d8_balbc_t3', '3097_d9_mCD1_t1', '3097_d9_mCD1_t2', '3097_d9_mCD1_t3', '4013_d1_balbc_t1', '4013_d1_balbc_t2', '4013_d1_balbc_t3', '4013_d2_balbc_t1', '4013_d2_balbc_t2', '4013_d2_balbc_t3', '4013_d3_balbc_t1', '4013_d3_balbc_t2', '4013_d3_balbc_t3', '4013_d4_balbc_t1', '4013_d4_balbc_t2', '4013_d4_balbc_t3', '4013_d5_balbc_t1', '4013_d5_balbc_t2', '4013_d5_balbc_t3', '4013_d6_balbc_t1', '4013_d6_balbc_t2', '4013_d6_balbc_t3', '4013_d7_balbc_t1', '4013_d7_balbc_t2', '4013_d7_balbc_t3', '4013_d8_balbc_t1', '4013_d8_balbc_t2', '4013_d8_balbc_t3', '4013_d9_mCD1_t1', '4013_d9_mCD1_t2', '4013_d9_mCD1_t3', '4014_d1_balbc_t1', '4014_d1_balbc_t2', '4014_d1_balbc_t3', '4014_d2_balbc_t1', '4014_d2_balbc_t2', '4014_d2_balbc_t3', '4014_d3_balbc_t1', '4014_d3_balbc_t2', '4014_d3_balbc_t3', '4014_d4_balbc_t1', '4014_d4_balbc_t2', '4014_d4_balbc_t3', '4014_d5_balbc_t1', '4014_d5_balbc_t2', '4014_d5_balbc_t3', '4014_d6_balbc_t1', '4014_d6_balbc_t2', '4014_d6_balbc_t3', '4014_d7_balbc_t1', '4014_d7_balbc_t2', '4014_d7_balbc_t3', '4014_d8_balbc_t1', '4014_d8_balbc_t2', '4014_d8_balbc_t3', '4014_d9_mCD1_t1', '4014_d9_mCD1_t2', '4014_d9_mCD1_t3', '4015_d1_balbc_t1', '4015_d1_balbc_t2', '4015_d1_balbc_t3', '4015_d2_balbc_t1', '4015_d2_balbc_t2', '4015_d2_balbc_t3', '4015_d3_balbc_t1', '4015_d3_balbc_t2', '4015_d3_balbc_t3', '4015_d4_balbc_t1', '4015_d4_balbc_t2', '4015_d4_balbc_t3', '4015_d5_balbc_t1', '4015_d5_balbc_t2', '4015_d5_balbc_t3', '4015_d6_balbc_t1', '4015_d6_balbc_t2', '4015_d6_balbc_t3', '4015_d7_balbc_t1', '4015_d7_balbc_t2', '4015_d7_balbc_t3', '4015_d8_balbc_t1', '4015_d8_balbc_t2', '4015_d8_balbc_t3', '4015_d9_mCD1_t1', '4015_d9_mCD1_t2', '4015_d9_mCD1_t3', '4016_d1_balbc_t1', '4016_d1_balbc_t2', '4016_d1_balbc_t3', '4016_d2_balbc_t1', '4016_d2_balbc_t2', '4016_d2_balbc_t3', '4016_d3_balbc_t1', '4016_d3_balbc_t2', '4016_d3_balbc_t3', '4016_d4_balbc_t1', '4016_d4_balbc_t2', '4016_d4_balbc_t3', '4016_d5_balbc_t1', '4016_d5_balbc_t2', '4016_d5_balbc_t3', '4016_d6_balbc_t1', '4016_d6_balbc_t2', '4016_d6_balbc_t3', '4016_d7_balbc_t1', '4016_d7_balbc_t2', '4016_d7_balbc_t3', '4016_d8_balbc_t1', '4016_d8_balbc_t2', '4016_d8_balbc_t3', '4016_d9_mCD1_t1', '4016_d9_mCD1_t2', '4016_d9_mCD1_t3'])\n"
     ]
    }
   ],
   "source": [
    "print(dict.keys())"
   ]
  },
  {
   "cell_type": "code",
   "execution_count": 4,
   "metadata": {},
   "outputs": [
    {
     "name": "stdout",
     "output_type": "stream",
     "text": [
      "3095\n",
      "17\n",
      "3096\n",
      "14\n",
      "3097\n",
      "15\n",
      "4013\n",
      "15\n",
      "4014\n",
      "21\n",
      "4015\n",
      "23\n",
      "4016\n",
      "22\n"
     ]
    }
   ],
   "source": [
    "for mouseId in subject_ids:\n",
    "    print(mouseId)\n",
    "    print(len(dict[f'{mouseId}_d3_balbc_t1'].columns.tolist()))"
   ]
  },
  {
   "cell_type": "code",
   "execution_count": 2,
   "metadata": {},
   "outputs": [
    {
     "name": "stdout",
     "output_type": "stream",
     "text": [
      "(False, PosixPath('/Users/lencacuturela/Desktop/Research/github/Falkner_Multi-region_Aggression/data/all.csv'))\n"
     ]
    }
   ],
   "source": [
    "print(check_exist(mouseId='all',path=None))"
   ]
  },
  {
   "cell_type": "code",
   "execution_count": 2,
   "metadata": {},
   "outputs": [
    {
     "data": {
      "text/html": [
       "<div>\n",
       "<style scoped>\n",
       "    .dataframe tbody tr th:only-of-type {\n",
       "        vertical-align: middle;\n",
       "    }\n",
       "\n",
       "    .dataframe tbody tr th {\n",
       "        vertical-align: top;\n",
       "    }\n",
       "\n",
       "    .dataframe thead th {\n",
       "        text-align: right;\n",
       "    }\n",
       "</style>\n",
       "<table border=\"1\" class=\"dataframe\">\n",
       "  <thead>\n",
       "    <tr style=\"text-align: right;\">\n",
       "      <th></th>\n",
       "      <th>index</th>\n",
       "      <th>subject</th>\n",
       "      <th>other</th>\n",
       "      <th>day</th>\n",
       "      <th>trial</th>\n",
       "      <th>PrL (E)</th>\n",
       "      <th>PrL (I)</th>\n",
       "      <th>vLS (E)</th>\n",
       "      <th>vLS (I)</th>\n",
       "      <th>POA (E)</th>\n",
       "      <th>...</th>\n",
       "      <th>VMH (I)</th>\n",
       "      <th>PAG (E)</th>\n",
       "      <th>PMv (E)</th>\n",
       "      <th>PMv (I)</th>\n",
       "      <th>LHb (E)</th>\n",
       "      <th>PA (E)</th>\n",
       "      <th>PA (I)</th>\n",
       "      <th>NAc (DA)</th>\n",
       "      <th>unsupervised labels</th>\n",
       "      <th>supervised labels</th>\n",
       "    </tr>\n",
       "  </thead>\n",
       "  <tbody>\n",
       "    <tr>\n",
       "      <th>0</th>\n",
       "      <td>0</td>\n",
       "      <td>3095</td>\n",
       "      <td>balb</td>\n",
       "      <td>1</td>\n",
       "      <td>1</td>\n",
       "      <td>0.681607</td>\n",
       "      <td>0.894658</td>\n",
       "      <td>-0.888269</td>\n",
       "      <td>-0.843799</td>\n",
       "      <td>-0.34011</td>\n",
       "      <td>...</td>\n",
       "      <td>-0.558806</td>\n",
       "      <td>NaN</td>\n",
       "      <td>NaN</td>\n",
       "      <td>NaN</td>\n",
       "      <td>NaN</td>\n",
       "      <td>NaN</td>\n",
       "      <td>NaN</td>\n",
       "      <td>-1.871317</td>\n",
       "      <td>1</td>\n",
       "      <td>0</td>\n",
       "    </tr>\n",
       "    <tr>\n",
       "      <th>1</th>\n",
       "      <td>1</td>\n",
       "      <td>3095</td>\n",
       "      <td>balb</td>\n",
       "      <td>1</td>\n",
       "      <td>1</td>\n",
       "      <td>0.599326</td>\n",
       "      <td>0.957647</td>\n",
       "      <td>-0.946083</td>\n",
       "      <td>-0.881617</td>\n",
       "      <td>-0.43045</td>\n",
       "      <td>...</td>\n",
       "      <td>-0.547735</td>\n",
       "      <td>NaN</td>\n",
       "      <td>NaN</td>\n",
       "      <td>NaN</td>\n",
       "      <td>NaN</td>\n",
       "      <td>NaN</td>\n",
       "      <td>NaN</td>\n",
       "      <td>-1.949758</td>\n",
       "      <td>1</td>\n",
       "      <td>0</td>\n",
       "    </tr>\n",
       "    <tr>\n",
       "      <th>2</th>\n",
       "      <td>2</td>\n",
       "      <td>3095</td>\n",
       "      <td>balb</td>\n",
       "      <td>1</td>\n",
       "      <td>1</td>\n",
       "      <td>0.529126</td>\n",
       "      <td>1.051173</td>\n",
       "      <td>-0.994299</td>\n",
       "      <td>-0.907692</td>\n",
       "      <td>-0.535689</td>\n",
       "      <td>...</td>\n",
       "      <td>-0.536162</td>\n",
       "      <td>NaN</td>\n",
       "      <td>NaN</td>\n",
       "      <td>NaN</td>\n",
       "      <td>NaN</td>\n",
       "      <td>NaN</td>\n",
       "      <td>NaN</td>\n",
       "      <td>-2.023673</td>\n",
       "      <td>3</td>\n",
       "      <td>0</td>\n",
       "    </tr>\n",
       "    <tr>\n",
       "      <th>3</th>\n",
       "      <td>3</td>\n",
       "      <td>3095</td>\n",
       "      <td>balb</td>\n",
       "      <td>1</td>\n",
       "      <td>1</td>\n",
       "      <td>0.477263</td>\n",
       "      <td>1.178564</td>\n",
       "      <td>-1.027632</td>\n",
       "      <td>-0.918032</td>\n",
       "      <td>-0.639095</td>\n",
       "      <td>...</td>\n",
       "      <td>-0.522479</td>\n",
       "      <td>NaN</td>\n",
       "      <td>NaN</td>\n",
       "      <td>NaN</td>\n",
       "      <td>NaN</td>\n",
       "      <td>NaN</td>\n",
       "      <td>NaN</td>\n",
       "      <td>-2.087047</td>\n",
       "      <td>1</td>\n",
       "      <td>0</td>\n",
       "    </tr>\n",
       "    <tr>\n",
       "      <th>4</th>\n",
       "      <td>4</td>\n",
       "      <td>3095</td>\n",
       "      <td>balb</td>\n",
       "      <td>1</td>\n",
       "      <td>1</td>\n",
       "      <td>0.450483</td>\n",
       "      <td>1.342303</td>\n",
       "      <td>-1.04039</td>\n",
       "      <td>-0.908681</td>\n",
       "      <td>-0.720142</td>\n",
       "      <td>...</td>\n",
       "      <td>-0.50484</td>\n",
       "      <td>NaN</td>\n",
       "      <td>NaN</td>\n",
       "      <td>NaN</td>\n",
       "      <td>NaN</td>\n",
       "      <td>NaN</td>\n",
       "      <td>NaN</td>\n",
       "      <td>-2.133982</td>\n",
       "      <td>3</td>\n",
       "      <td>0</td>\n",
       "    </tr>\n",
       "    <tr>\n",
       "      <th>...</th>\n",
       "      <td>...</td>\n",
       "      <td>...</td>\n",
       "      <td>...</td>\n",
       "      <td>...</td>\n",
       "      <td>...</td>\n",
       "      <td>...</td>\n",
       "      <td>...</td>\n",
       "      <td>...</td>\n",
       "      <td>...</td>\n",
       "      <td>...</td>\n",
       "      <td>...</td>\n",
       "      <td>...</td>\n",
       "      <td>...</td>\n",
       "      <td>...</td>\n",
       "      <td>...</td>\n",
       "      <td>...</td>\n",
       "      <td>...</td>\n",
       "      <td>...</td>\n",
       "      <td>...</td>\n",
       "      <td>...</td>\n",
       "      <td>...</td>\n",
       "    </tr>\n",
       "    <tr>\n",
       "      <th>3807492</th>\n",
       "      <td>9245</td>\n",
       "      <td>4016</td>\n",
       "      <td>mCD1</td>\n",
       "      <td>9</td>\n",
       "      <td>3</td>\n",
       "      <td>-0.579453</td>\n",
       "      <td>-0.78478</td>\n",
       "      <td>-0.113112</td>\n",
       "      <td>-0.454274</td>\n",
       "      <td>-0.761921</td>\n",
       "      <td>...</td>\n",
       "      <td>-0.960957</td>\n",
       "      <td>NaN</td>\n",
       "      <td>-0.248305</td>\n",
       "      <td>-1.052049</td>\n",
       "      <td>1.500971</td>\n",
       "      <td>-0.888567</td>\n",
       "      <td>-1.396829</td>\n",
       "      <td>-0.795804</td>\n",
       "      <td>4</td>\n",
       "      <td>0</td>\n",
       "    </tr>\n",
       "    <tr>\n",
       "      <th>3807493</th>\n",
       "      <td>9246</td>\n",
       "      <td>4016</td>\n",
       "      <td>mCD1</td>\n",
       "      <td>9</td>\n",
       "      <td>3</td>\n",
       "      <td>-0.566121</td>\n",
       "      <td>-0.629928</td>\n",
       "      <td>-0.08884</td>\n",
       "      <td>-0.400871</td>\n",
       "      <td>-0.741517</td>\n",
       "      <td>...</td>\n",
       "      <td>-0.977945</td>\n",
       "      <td>NaN</td>\n",
       "      <td>-0.244916</td>\n",
       "      <td>-1.025833</td>\n",
       "      <td>1.781089</td>\n",
       "      <td>-0.922451</td>\n",
       "      <td>-1.351286</td>\n",
       "      <td>-0.688127</td>\n",
       "      <td>4</td>\n",
       "      <td>0</td>\n",
       "    </tr>\n",
       "    <tr>\n",
       "      <th>3807494</th>\n",
       "      <td>9247</td>\n",
       "      <td>4016</td>\n",
       "      <td>mCD1</td>\n",
       "      <td>9</td>\n",
       "      <td>3</td>\n",
       "      <td>-0.562356</td>\n",
       "      <td>-0.412961</td>\n",
       "      <td>-0.020877</td>\n",
       "      <td>-0.369679</td>\n",
       "      <td>-0.702065</td>\n",
       "      <td>...</td>\n",
       "      <td>-1.003387</td>\n",
       "      <td>NaN</td>\n",
       "      <td>-0.233609</td>\n",
       "      <td>-0.940923</td>\n",
       "      <td>2.136928</td>\n",
       "      <td>-0.949573</td>\n",
       "      <td>-1.286938</td>\n",
       "      <td>-0.579722</td>\n",
       "      <td>4</td>\n",
       "      <td>0</td>\n",
       "    </tr>\n",
       "    <tr>\n",
       "      <th>3807495</th>\n",
       "      <td>9248</td>\n",
       "      <td>4016</td>\n",
       "      <td>mCD1</td>\n",
       "      <td>9</td>\n",
       "      <td>3</td>\n",
       "      <td>-0.599589</td>\n",
       "      <td>-0.117326</td>\n",
       "      <td>0.099659</td>\n",
       "      <td>-0.401065</td>\n",
       "      <td>-0.657963</td>\n",
       "      <td>...</td>\n",
       "      <td>-1.037981</td>\n",
       "      <td>NaN</td>\n",
       "      <td>-0.211399</td>\n",
       "      <td>-0.761976</td>\n",
       "      <td>2.576618</td>\n",
       "      <td>-0.988582</td>\n",
       "      <td>-1.198751</td>\n",
       "      <td>-0.548178</td>\n",
       "      <td>4</td>\n",
       "      <td>0</td>\n",
       "    </tr>\n",
       "    <tr>\n",
       "      <th>3807496</th>\n",
       "      <td>9249</td>\n",
       "      <td>4016</td>\n",
       "      <td>mCD1</td>\n",
       "      <td>9</td>\n",
       "      <td>3</td>\n",
       "      <td>-0.730273</td>\n",
       "      <td>0.276857</td>\n",
       "      <td>0.27678</td>\n",
       "      <td>-0.550985</td>\n",
       "      <td>-0.638732</td>\n",
       "      <td>...</td>\n",
       "      <td>-1.08204</td>\n",
       "      <td>NaN</td>\n",
       "      <td>-0.17538</td>\n",
       "      <td>-0.442791</td>\n",
       "      <td>3.099745</td>\n",
       "      <td>-1.073313</td>\n",
       "      <td>-1.080877</td>\n",
       "      <td>-0.723958</td>\n",
       "      <td>4</td>\n",
       "      <td>0</td>\n",
       "    </tr>\n",
       "  </tbody>\n",
       "</table>\n",
       "<p>3807497 rows × 28 columns</p>\n",
       "</div>"
      ],
      "text/plain": [
       "         index subject other day trial   PrL (E)   PrL (I)   vLS (E)  \\\n",
       "0            0    3095  balb   1     1  0.681607  0.894658 -0.888269   \n",
       "1            1    3095  balb   1     1  0.599326  0.957647 -0.946083   \n",
       "2            2    3095  balb   1     1  0.529126  1.051173 -0.994299   \n",
       "3            3    3095  balb   1     1  0.477263  1.178564 -1.027632   \n",
       "4            4    3095  balb   1     1  0.450483  1.342303  -1.04039   \n",
       "...        ...     ...   ...  ..   ...       ...       ...       ...   \n",
       "3807492   9245    4016  mCD1   9     3 -0.579453  -0.78478 -0.113112   \n",
       "3807493   9246    4016  mCD1   9     3 -0.566121 -0.629928  -0.08884   \n",
       "3807494   9247    4016  mCD1   9     3 -0.562356 -0.412961 -0.020877   \n",
       "3807495   9248    4016  mCD1   9     3 -0.599589 -0.117326  0.099659   \n",
       "3807496   9249    4016  mCD1   9     3 -0.730273  0.276857   0.27678   \n",
       "\n",
       "          vLS (I)   POA (E)  ...   VMH (I) PAG (E)   PMv (E)   PMv (I)  \\\n",
       "0       -0.843799  -0.34011  ... -0.558806     NaN       NaN       NaN   \n",
       "1       -0.881617  -0.43045  ... -0.547735     NaN       NaN       NaN   \n",
       "2       -0.907692 -0.535689  ... -0.536162     NaN       NaN       NaN   \n",
       "3       -0.918032 -0.639095  ... -0.522479     NaN       NaN       NaN   \n",
       "4       -0.908681 -0.720142  ...  -0.50484     NaN       NaN       NaN   \n",
       "...           ...       ...  ...       ...     ...       ...       ...   \n",
       "3807492 -0.454274 -0.761921  ... -0.960957     NaN -0.248305 -1.052049   \n",
       "3807493 -0.400871 -0.741517  ... -0.977945     NaN -0.244916 -1.025833   \n",
       "3807494 -0.369679 -0.702065  ... -1.003387     NaN -0.233609 -0.940923   \n",
       "3807495 -0.401065 -0.657963  ... -1.037981     NaN -0.211399 -0.761976   \n",
       "3807496 -0.550985 -0.638732  ...  -1.08204     NaN  -0.17538 -0.442791   \n",
       "\n",
       "          LHb (E)    PA (E)    PA (I)  NAc (DA) unsupervised labels  \\\n",
       "0             NaN       NaN       NaN -1.871317                   1   \n",
       "1             NaN       NaN       NaN -1.949758                   1   \n",
       "2             NaN       NaN       NaN -2.023673                   3   \n",
       "3             NaN       NaN       NaN -2.087047                   1   \n",
       "4             NaN       NaN       NaN -2.133982                   3   \n",
       "...           ...       ...       ...       ...                 ...   \n",
       "3807492  1.500971 -0.888567 -1.396829 -0.795804                   4   \n",
       "3807493  1.781089 -0.922451 -1.351286 -0.688127                   4   \n",
       "3807494  2.136928 -0.949573 -1.286938 -0.579722                   4   \n",
       "3807495  2.576618 -0.988582 -1.198751 -0.548178                   4   \n",
       "3807496  3.099745 -1.073313 -1.080877 -0.723958                   4   \n",
       "\n",
       "        supervised labels  \n",
       "0                       0  \n",
       "1                       0  \n",
       "2                       0  \n",
       "3                       0  \n",
       "4                       0  \n",
       "...                   ...  \n",
       "3807492                 0  \n",
       "3807493                 0  \n",
       "3807494                 0  \n",
       "3807495                 0  \n",
       "3807496                 0  \n",
       "\n",
       "[3807497 rows x 28 columns]"
      ]
     },
     "execution_count": 2,
     "metadata": {},
     "output_type": "execute_result"
    }
   ],
   "source": [
    "load_and_wrangle(mouseId='all', path=None, overwrite=False)\n"
   ]
  },
  {
   "cell_type": "code",
   "execution_count": 2,
   "metadata": {},
   "outputs": [
    {
     "ename": "ValueError",
     "evalue": "invalid literal for int() with base 10: 'all'",
     "output_type": "error",
     "traceback": [
      "\u001b[0;31m---------------------------------------------------------------------------\u001b[0m",
      "\u001b[0;31mValueError\u001b[0m                                Traceback (most recent call last)",
      "\u001b[1;32m/Users/lencacuturela/Desktop/Research/github/Falkner_Multi-region_Aggression/code/ExploratoryAnalysis.ipynb Cell 6\u001b[0m in \u001b[0;36m<cell line: 1>\u001b[0;34m()\u001b[0m\n\u001b[0;32m----> <a href='vscode-notebook-cell:/Users/lencacuturela/Desktop/Research/github/Falkner_Multi-region_Aggression/code/ExploratoryAnalysis.ipynb#W5sZmlsZQ%3D%3D?line=0'>1</a>\u001b[0m behaviorDistributions(mouseId\u001b[39m=\u001b[39;49m\u001b[39m'\u001b[39;49m\u001b[39mall\u001b[39;49m\u001b[39m'\u001b[39;49m,path\u001b[39m=\u001b[39;49m\u001b[39mNone\u001b[39;49;00m,\u001b[39mtype\u001b[39;49m\u001b[39m=\u001b[39;49m\u001b[39m'\u001b[39;49m\u001b[39munsupervised\u001b[39;49m\u001b[39m'\u001b[39;49m)\n",
      "File \u001b[0;32m~/Desktop/Research/github/Falkner_Multi-region_Aggression/code/plotting_utils.py:39\u001b[0m, in \u001b[0;36mbehaviorDistributions\u001b[0;34m(mouseId, path, type)\u001b[0m\n\u001b[1;32m     36\u001b[0m     \u001b[39mraise\u001b[39;00m \u001b[39mException\u001b[39;00m(\u001b[39m'\u001b[39m\u001b[39mType can only be in\u001b[39m\u001b[39m'\u001b[39m, [\u001b[39m'\u001b[39m\u001b[39mraw\u001b[39m\u001b[39m'\u001b[39m,\u001b[39m'\u001b[39m\u001b[39msupervised\u001b[39m\u001b[39m'\u001b[39m,\u001b[39m'\u001b[39m\u001b[39munsupervised\u001b[39m\u001b[39m'\u001b[39m])\n\u001b[1;32m     38\u001b[0m \u001b[39m# loading data\u001b[39;00m\n\u001b[0;32m---> 39\u001b[0m df \u001b[39m=\u001b[39m load_and_wrangle(mouseId\u001b[39m=\u001b[39;49mmouseId, path\u001b[39m=\u001b[39;49mpath, overwrite\u001b[39m=\u001b[39;49m\u001b[39mFalse\u001b[39;49;00m)\n\u001b[1;32m     41\u001b[0m \u001b[39m# info about which class is aggressive behavior\u001b[39;00m\n\u001b[1;32m     42\u001b[0m \u001b[39mif\u001b[39;00m(\u001b[39mtype\u001b[39m \u001b[39m==\u001b[39m \u001b[39m'\u001b[39m\u001b[39munsupervised\u001b[39m\u001b[39m'\u001b[39m):\n",
      "File \u001b[0;32m~/Desktop/Research/github/Falkner_Multi-region_Aggression/code/io_utils.py:64\u001b[0m, in \u001b[0;36mload_and_wrangle\u001b[0;34m(mouseId, path, overwrite)\u001b[0m\n\u001b[1;32m     61\u001b[0m \u001b[39m# loading path on my laptop as default\u001b[39;00m\n\u001b[1;32m     62\u001b[0m path \u001b[39m=\u001b[39m Path(\u001b[39m\"\u001b[39m\u001b[39m/Users/lencacuturela/Desktop/Research/github/Falkner_Multi-region_Aggression/data\u001b[39m\u001b[39m\"\u001b[39m) \u001b[39mif\u001b[39;00m path \u001b[39mis\u001b[39;00m \u001b[39mNone\u001b[39;00m \u001b[39melse\u001b[39;00m Path(path)\n\u001b[0;32m---> 64\u001b[0m exists, full_path \u001b[39m=\u001b[39m check_exist(mouseId\u001b[39m=\u001b[39;49mmouseId, path\u001b[39m=\u001b[39;49mpath)\n\u001b[1;32m     66\u001b[0m \u001b[39mif\u001b[39;00m exists \u001b[39mand\u001b[39;00m overwrite\u001b[39m==\u001b[39m\u001b[39mFalse\u001b[39;00m:\n\u001b[1;32m     67\u001b[0m     df \u001b[39m=\u001b[39m pd\u001b[39m.\u001b[39mread_csv(full_path)\n",
      "File \u001b[0;32m~/Desktop/Research/github/Falkner_Multi-region_Aggression/code/io_utils.py:29\u001b[0m, in \u001b[0;36mcheck_exist\u001b[0;34m(mouseId, path)\u001b[0m\n\u001b[1;32m     26\u001b[0m path \u001b[39m=\u001b[39m Path(\u001b[39m\"\u001b[39m\u001b[39m/Users/lencacuturela/Desktop/Research/github/Falkner_Multi-region_Aggression/data\u001b[39m\u001b[39m\"\u001b[39m) \u001b[39mif\u001b[39;00m path \u001b[39mis\u001b[39;00m \u001b[39mNone\u001b[39;00m \u001b[39melse\u001b[39;00m Path(path)\n\u001b[1;32m     28\u001b[0m \u001b[39m# checking that particular mouse_id is a valid option\u001b[39;00m\n\u001b[0;32m---> 29\u001b[0m \u001b[39mif\u001b[39;00m (\u001b[39mint\u001b[39;49m(mouseId) \u001b[39mnot\u001b[39;00m \u001b[39min\u001b[39;00m subject_ids):\n\u001b[1;32m     30\u001b[0m     \u001b[39mraise\u001b[39;00m \u001b[39mException\u001b[39;00m(\u001b[39m'\u001b[39m\u001b[39mMouse id can only be in \u001b[39m\u001b[39m'\u001b[39m, subject_ids)\n\u001b[1;32m     31\u001b[0m \u001b[39melse\u001b[39;00m:\n\u001b[1;32m     32\u001b[0m     \u001b[39m# create a string of the file name to look for\u001b[39;00m\n",
      "\u001b[0;31mValueError\u001b[0m: invalid literal for int() with base 10: 'all'"
     ]
    }
   ],
   "source": [
    "behaviorDistributions(mouseId='all',path=None,type='unsupervised')"
   ]
  },
  {
   "cell_type": "code",
   "execution_count": 3,
   "metadata": {},
   "outputs": [
    {
     "data": {
      "image/png": "[encoded data removed]",
      "text/plain": [
       "<Figure size 432x288 with 1 Axes>"
      ]
     },
     "metadata": {
      "needs_background": "light"
     },
     "output_type": "display_data"
    },
    {
     "data": {
      "image/png": "[encoded data removed]",
      "text/plain": [
       "<Figure size 432x288 with 1 Axes>"
      ]
     },
     "metadata": {
      "needs_background": "light"
     },
     "output_type": "display_data"
    },
    {
     "data": {
      "image/png": "[encoded data removed]",
      "text/plain": [
       "<Figure size 432x288 with 1 Axes>"
      ]
     },
     "metadata": {
      "needs_background": "light"
     },
     "output_type": "display_data"
    },
    {
     "data": {
      "image/png": "[encoded data removed]",
      "text/plain": [
       "<Figure size 432x288 with 1 Axes>"
      ]
     },
     "metadata": {
      "needs_background": "light"
     },
     "output_type": "display_data"
    },
    {
     "data": {
      "image/png": "[encoded data removed]",
      "text/plain": [
       "<Figure size 432x288 with 1 Axes>"
      ]
     },
     "metadata": {
      "needs_background": "light"
     },
     "output_type": "display_data"
    },
    {
     "data": {
      "image/png": "[encoded data removed]",
      "text/plain": [
       "<Figure size 432x288 with 1 Axes>"
      ]
     },
     "metadata": {
      "needs_background": "light"
     },
     "output_type": "display_data"
    }
   ],
   "source": [
    "behaviorDistributions(mouseId=3095,path=None,type='supervised')"
   ]
  },
  {
   "cell_type": "code",
   "execution_count": 100,
   "metadata": {},
   "outputs": [],
   "source": [
    "for id in subject_ids:\n",
    "    load_and_wrangle(mouseId=id, path=None, overwrite=True)"
   ]
  },
  {
   "cell_type": "code",
   "execution_count": 5,
   "metadata": {},
   "outputs": [
    {
     "data": {
      "image/png": "[encoded data removed]",
      "text/plain": [
       "<Figure size 432x288 with 1 Axes>"
      ]
     },
     "metadata": {
      "needs_background": "light"
     },
     "output_type": "display_data"
    }
   ],
   "source": [
    "cmapB = mpl.cm.Blues(np.linspace(0,1,20))\n",
    "cmapR = mpl.cm.Reds(np.linspace(0,1,20))\n",
    "def singleFrameBehavioralDistribution(mouseId, path=None, daysType='all',labeltype='unsupervised'):\n",
    "    \"\"\"\n",
    "    plotting single frame distribution\n",
    "    params:\n",
    "    -------\n",
    "    mouse_id: int or str\n",
    "        load id of subject mouse or 'all' for all mice together\n",
    "    type: str\n",
    "        'supervised' or 'unsupervised' or 'raw' - related to class labels to look at\n",
    "    \n",
    "    returns\n",
    "    -------\n",
    "    \n",
    "    \"\"\"\n",
    "    # loading path on my laptop as default\n",
    "    path = Path(\"/Users/lencacuturela/Desktop/Research/github/Falkner_Multi-region_Aggression/data\") if path is None else Path(path)\n",
    "    \n",
    "    # checking that particular mouse_id is a valid option\n",
    "    if(mouseId!='all'):\n",
    "        if(int(mouseId) not in subject_ids):\n",
    "            raise Exception('Mouse id can only be \"all\" or in ', subject_ids)\n",
    "\n",
    "    # checking that type of labels is a valid option\n",
    "    if (labeltype not in ['raw','supervised','unsupervised']):\n",
    "        raise Exception('Label type can only be in', ['raw','supervised','unsupervised'])\n",
    "\n",
    "    # checking that type of day arranging is a valid option\n",
    "    if (daysType not in ['all days','per day']):\n",
    "        raise Exception('Dyas type can only be in', ['all days','per day'])\n",
    "\n",
    "    # info about which class is aggressive behavior\n",
    "    if(labeltype == 'unsupervised'):\n",
    "        aggClass = 2\n",
    "        index_aggClass = 1 # because unsupervised start from 1\n",
    "    elif(labeltype == 'supervised'):\n",
    "        aggClass = 3 \n",
    "        index_aggClass = 3 # because unsupervised start from 0\n",
    "\n",
    "    # loading data\n",
    "    df = load_and_wrangle(mouseId=mouseId, path=path, overwrite=False)\n",
    "\n",
    "    # getting possible classes list\n",
    "    classes = df[f'{labeltype} labels'].unique()\n",
    "    classes.sort()\n",
    "\n",
    "    if (daysType == 'all days'):\n",
    "        # plotting distribution of classes across all days \n",
    "        plt.title(\"All days\")\n",
    "        plt.bar(classes,df[f'{labeltype} labels'].value_counts()[classes],color='gray')\n",
    "        plt.bar(aggClass,df[f'{labeltype} labels'].value_counts()[aggClass],color='darkred',label='agg') # coloring aggression red\n",
    "        plt.ylabel('single frame count')\n",
    "        plt.xlabel(f'{labeltype} classes')\n",
    "        plt.xticks(classes)\n",
    "        plt.legend()\n",
    "        plt.show()\n",
    "    elif (daysType == 'per day'):\n",
    "        # plotting dsitribution of classes for each day\n",
    "        days = df['day'].unique()\n",
    "        N = 3\n",
    "        ind = np.arange(0,len(classes)) \n",
    "        width = 0.1\n",
    "        for day in days:\n",
    "            temp = df[df['day']==day]\n",
    "            plt.bar(ind + width*(day-1), temp[f'{labeltype} labels'].value_counts()[classes], width, color=cmapB[day*2],label='day '+str(day))\n",
    "            plt.bar(ind[index_aggClass] + width*(day-1), temp[f'{labeltype} labels'].value_counts()[aggClass], width, color=cmapR[day*2])\n",
    "        plt.xlabel(f'{labeltype} classes')\n",
    "        plt.xticks(ticks = ind + width*4,labels = classes)\n",
    "        plt.ylabel('single frame count')\n",
    "        plt.legend()\n",
    "        plt.show()\n",
    "\n",
    "singleFrameBehavioralDistribution(mouseId=3095, path=None, daysType='all days',labeltype='supervised')"
   ]
  },
  {
   "cell_type": "code",
   "execution_count": 8,
   "metadata": {},
   "outputs": [
    {
     "name": "stdout",
     "output_type": "stream",
     "text": [
      "Variance for each brain region\n",
      "[0.14779717 0.04421218 0.08908049 0.03551362 0.16945907 0.07587813\n",
      " 0.09675992 0.06006238 0.23102562 0.01704771 0.27294888 0.12655844\n",
      " 0.30613906 0.05618241 0.09706614]\n"
     ]
    },
    {
     "ename": "NameError",
     "evalue": "name 'PCA' is not defined",
     "output_type": "error",
     "traceback": [
      "\u001b[0;31m---------------------------------------------------------------------------\u001b[0m",
      "\u001b[0;31mNameError\u001b[0m                                 Traceback (most recent call last)",
      "\u001b[1;32m/Users/lencacuturela/Desktop/Research/github/Falkner_Multi-region_Aggression/code/ExploratoryAnalysis.ipynb Cell 10\u001b[0m in \u001b[0;36m<cell line: 1>\u001b[0;34m()\u001b[0m\n\u001b[0;32m----> <a href='vscode-notebook-cell:/Users/lencacuturela/Desktop/Research/github/Falkner_Multi-region_Aggression/code/ExploratoryAnalysis.ipynb#X12sZmlsZQ%3D%3D?line=0'>1</a>\u001b[0m PCAfunction(mouseId\u001b[39m=\u001b[39;49m\u001b[39m3095\u001b[39;49m, path\u001b[39m=\u001b[39;49m\u001b[39mNone\u001b[39;49;00m, \u001b[39mtype\u001b[39;49m\u001b[39m=\u001b[39;49m\u001b[39mNone\u001b[39;49;00m)\n",
      "File \u001b[0;32m~/Desktop/Research/github/Falkner_Multi-region_Aggression/code/analysis_utils.py:22\u001b[0m, in \u001b[0;36mPCAfunction\u001b[0;34m(mouseId, path, type)\u001b[0m\n\u001b[1;32m     19\u001b[0m \u001b[39mprint\u001b[39m(x\u001b[39m.\u001b[39mmean(axis\u001b[39m=\u001b[39m\u001b[39m0\u001b[39m))\n\u001b[1;32m     21\u001b[0m n_comp\u001b[39m=\u001b[39m\u001b[39m10\u001b[39m\n\u001b[0;32m---> 22\u001b[0m pca \u001b[39m=\u001b[39m PCA(n_components\u001b[39m=\u001b[39mn_comp)\n\u001b[1;32m     23\u001b[0m y \u001b[39m=\u001b[39m pca\u001b[39m.\u001b[39mfit_transform(x)\n\u001b[1;32m     24\u001b[0m c_explained_variance \u001b[39m=\u001b[39m np\u001b[39m.\u001b[39mcumsum(pca\u001b[39m.\u001b[39mexplained_variance_ratio_)\n",
      "\u001b[0;31mNameError\u001b[0m: name 'PCA' is not defined"
     ]
    }
   ],
   "source": [
    "PCAfunction(mouseId=3095, path=None, type=None)"
   ]
  }
 ],
 "metadata": {
  "kernelspec": {
   "display_name": "base",
   "language": "python",
   "name": "python3"
  },
  "language_info": {
   "codemirror_mode": {
    "name": "ipython",
    "version": 3
   },
   "file_extension": ".py",
   "mimetype": "text/x-python",
   "name": "python",
   "nbconvert_exporter": "python",
   "pygments_lexer": "ipython3",
   "version": "3.9.12"
  },
  "orig_nbformat": 4,
  "vscode": {
   "interpreter": {
    "hash": "7a3987f5cb919ddfd75dce0c8403cdd5da59aa02831bb2049274dd8bcad98774"
   }
  }
 },
 "nbformat": 4,
 "nbformat_minor": 2
}
