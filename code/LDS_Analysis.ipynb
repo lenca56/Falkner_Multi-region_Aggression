{
 "cells": [
  {
   "cell_type": "code",
   "execution_count": 1,
   "metadata": {},
   "outputs": [
    {
     "name": "stderr",
     "output_type": "stream",
     "text": [
      "/Users/lencacuturela/opt/anaconda3/envs/ssm/lib/python3.12/site-packages/tqdm/auto.py:21: TqdmWarning: IProgress not found. Please update jupyter and ipywidgets. See https://ipywidgets.readthedocs.io/en/stable/user_install.html\n",
      "  from .autonotebook import tqdm as notebook_tqdm\n"
     ]
    }
   ],
   "source": [
    "# importing modules and packages\n",
    "import numpy as np\n",
    "import matplotlib.pyplot as plt\n",
    "import pandas as pd\n",
    "from io_utils import *\n",
    "from plotting_utils import *\n",
    "from analysis_utils import * \n",
    "from pathlib import Path\n",
    "import pickle\n",
    "import scipy\n",
    "\n",
    "import autograd.numpy as np\n",
    "import autograd.numpy.random as npr\n",
    "npr.seed(0)\n",
    "\n",
    "import matplotlib.pyplot as plt\n",
    "from matplotlib.gridspec import GridSpec\n",
    "\n",
    "import ssm\n",
    "import seaborn as sns\n",
    "sns.set_context(\"talk\")"
   ]
  },
  {
   "cell_type": "code",
   "execution_count": 2,
   "metadata": {},
   "outputs": [],
   "source": [
    "animalsAgg = ['29L','3095','3096','3097','30B','30L','30R2','4013','4014','4015','4016','91R2'] # list of all aniamls\n",
    "animalsObs = ['29L','30R2','86L', '87L2'] # list of observer animals\n",
    "animalsToy = ['86L2', '87B', '87L','87R2']\n",
    "# sessions = ['t1','t2','t3'] # session in each day\n",
    "animalsAll = animalsAgg + animalsObs + animalsToy\n",
    "\n",
    "maxRegions = ['PrL (E)', 'PrL (I)', 'vLS (E)', 'vLS (I)', 'POA (E)', 'POA (I)', 'BNST (E)', 'BNST (I)', 'AH (E)', 'AH (I)', 'MeA (E)', 'MeA (I)', 'VMH (E)', 'VMH (I)', 'PAG (E)', 'PMv (E)', 'PMv (I)', 'LHb (E)', 'LHb (I)', 'PA (E)', 'PA (I)', 'NAc (DA)']"
   ]
  },
  {
   "cell_type": "code",
   "execution_count": 3,
   "metadata": {},
   "outputs": [
    {
     "name": "stdout",
     "output_type": "stream",
     "text": [
      "  subject group  other day trial   PrL (E)   PrL (I)   vLS (E)   vLS (I)  \\\n",
      "0     29L   agg  balbc  d1    t1 -0.473779 -1.290629 -0.969278 -0.829421   \n",
      "1     29L   agg  balbc  d1    t1  0.018012 -1.041894 -0.908416 -0.822654   \n",
      "2     29L   agg  balbc  d1    t1  0.446211 -0.816871 -0.816333 -0.800908   \n",
      "3     29L   agg  balbc  d1    t1  0.814519 -0.614451 -0.697274 -0.765899   \n",
      "4     29L   agg  balbc  d1    t1  1.126641 -0.433526 -0.555484 -0.719340   \n",
      "\n",
      "    POA (E)  ...   PAG (E)   PMv (E)   PMv (I)   LHb (E)   LHb (I)    PA (E)  \\\n",
      "0  0.341944  ...  1.073387 -0.613695 -1.388937  0.256262 -0.987975 -1.117363   \n",
      "1  0.326356  ...  0.897360 -0.644853 -1.369702  0.338816 -0.888924 -1.159866   \n",
      "2  0.302515  ...  0.754962 -0.669580 -1.353668  0.399855 -0.799517 -1.197428   \n",
      "3  0.271282  ...  0.643002 -0.688342 -1.340514  0.441211 -0.719355 -1.230166   \n",
      "4  0.233514  ...  0.558292 -0.701603 -1.329918  0.464721 -0.648041 -1.258193   \n",
      "\n",
      "     PA (I)  NAc (DA)  unsupervised labels  attack labels  \n",
      "0 -1.102841 -0.534609                  9.0              0  \n",
      "1 -1.092476 -0.703080                  9.0              0  \n",
      "2 -1.082210 -0.830525                  9.0              0  \n",
      "3 -1.072066 -0.920340                  9.0              0  \n",
      "4 -1.062070 -0.975919                  9.0              0  \n",
      "\n",
      "[5 rows x 29 columns]\n",
      "['PrL (E)', 'PrL (I)', 'vLS (E)', 'vLS (I)', 'POA (E)', 'POA (I)', 'BNST (E)', 'BNST (I)', 'AH (E)', 'AH (I)', 'MeA (E)', 'MeA (I)', 'VMH (E)', 'VMH (I)', 'PAG (E)', 'PMv (E)', 'PMv (I)', 'LHb (E)', 'LHb (I)', 'PA (E)', 'PA (I)', 'NAc (DA)']\n"
     ]
    }
   ],
   "source": [
    "animal = '29L'\n",
    "group = 'agg'\n",
    "df = load_and_wrangle(mouseId=animal, group=group, path=None, overwrite=False) # load csv for animal\n",
    "print(df.head())\n",
    "\n",
    "regions = get_regions_dataframe(df)\n",
    "print(regions)"
   ]
  },
  {
   "cell_type": "code",
   "execution_count": 4,
   "metadata": {},
   "outputs": [],
   "source": [
    "# Set the parameters of the HMM\n",
    "T = 1000   # number of time bins\n",
    "D = 2      # number of latent dimensions\n",
    "N = len(regions)     # number of observed dimensions"
   ]
  },
  {
   "cell_type": "code",
   "execution_count": 5,
   "metadata": {},
   "outputs": [
    {
     "name": "stdout",
     "output_type": "stream",
     "text": [
      "(9488, 22)\n"
     ]
    }
   ],
   "source": [
    "Y = get_observed_all_Y(animal, group, path=None)\n",
    "print(Y[-1].shape)"
   ]
  },
  {
   "cell_type": "code",
   "execution_count": 6,
   "metadata": {},
   "outputs": [],
   "source": [
    "lds = ssm.LDS(N, D, M=0, emissions='gaussian', dynamics=\"gaussian\")"
   ]
  },
  {
   "cell_type": "code",
   "execution_count": null,
   "metadata": {},
   "outputs": [],
   "source": []
  }
 ],
 "metadata": {
  "kernelspec": {
   "display_name": "base",
   "language": "python",
   "name": "python3"
  },
  "language_info": {
   "codemirror_mode": {
    "name": "ipython",
    "version": 3
   },
   "file_extension": ".py",
   "mimetype": "text/x-python",
   "name": "python",
   "nbconvert_exporter": "python",
   "pygments_lexer": "ipython3",
   "version": "3.12.3"
  }
 },
 "nbformat": 4,
 "nbformat_minor": 2
}
